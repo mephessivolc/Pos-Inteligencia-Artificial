{
 "cells": [
  {
   "cell_type": "code",
   "execution_count": 2,
   "metadata": {
    "id": "DW0TlmJWHPkm"
   },
   "outputs": [],
   "source": [
    "import numpy as np\n",
    "import pandas as pd\n",
    "\n",
    "import yfinance as yf\n",
    "from datetime import datetime, date\n",
    "\n",
    "import numpy as np\n",
    "from numpy.ma.core import ceil\n",
    "from scipy.spatial import distance #distance calculation\n",
    "from sklearn.preprocessing import MinMaxScaler #normalisation\n",
    "from sklearn.model_selection import train_test_split\n",
    "from sklearn.metrics import accuracy_score #scoring\n",
    "from sklearn.metrics import confusion_matrix\n",
    "import matplotlib.pyplot as plt\n",
    "from matplotlib import animation, colors\n",
    "\n",
    "from minisom import MiniSom"
   ]
  },
  {
   "cell_type": "markdown",
   "metadata": {
    "id": "cZqrWFbMdpS-"
   },
   "source": [
    "# Função para classificar os dados \n",
    "A diferença"
   ]
  },
  {
   "cell_type": "code",
   "execution_count": 3,
   "metadata": {
    "id": "gK_FYF1nPQkH"
   },
   "outputs": [],
   "source": [
    "def f(x):\n",
    "  if x < -4.5/100:\n",
    "    return 0\n",
    "  elif -4.5/100 < x and x < -2.5/100:\n",
    "    return 1\n",
    "  elif -2.5/100 < x and x < -0.5/100:\n",
    "    return 2\n",
    "  elif -0.5/100 < x and x < 0.5/100:\n",
    "    return 3\n",
    "  elif 0.5/100 < x and x < 2.5/100:\n",
    "    return 4\n",
    "  elif 2.5/100 < x and x < 4.5/100:\n",
    "    return 5\n",
    "  else:\n",
    "    return 6\n"
   ]
  },
  {
   "cell_type": "markdown",
   "metadata": {
    "id": "w6G_ei20dlsv"
   },
   "source": [
    "# Obtendo Dados"
   ]
  },
  {
   "cell_type": "code",
   "execution_count": null,
   "metadata": {
    "id": "N1VOKAcyHgSa"
   },
   "outputs": [],
   "source": [
    "# Download dos dados da B3\n",
    "df = yf.Ticker('PETR4.SA').history(period='1d', start=datetime(2022,1,1), end=datetime(2022,12,28))[['Close', 'Open', 'High', 'Volume']]\n",
    "df.reset_index(inplace=True) # resetar indeces\n",
    "df['perc'] = df['Close'].pct_change(periods=2) # calculo de porcentagem da diferenca entre o o dia corrente e o proximo\n",
    "df['interv'] = df['perc'].apply(f) # indice do intervalor dado\n",
    "df = df.dropna() # retirar dados NaN\n",
    "df"
   ]
  },
  {
   "cell_type": "code",
   "execution_count": 5,
   "metadata": {
    "id": "xbgs5mWCI7z7"
   },
   "outputs": [],
   "source": [
    "data_x = df[['Close', 'Open', 'Open', 'High', 'Volume']].to_numpy()\n",
    "data_y = df['interv']"
   ]
  },
  {
   "cell_type": "code",
   "execution_count": 6,
   "metadata": {
    "colab": {
     "base_uri": "https://localhost:8080/"
    },
    "id": "4CY51MOoSGO9",
    "outputId": "ac50e8de-ce11-4d70-8040-3b9a6eb6d90d"
   },
   "outputs": [
    {
     "name": "stdout",
     "output_type": "stream",
     "text": [
      "(196, 5) (196,) (50, 5) (50,)\n"
     ]
    }
   ],
   "source": [
    "# train and test split\n",
    "X_train, X_test, y_train, y_test = train_test_split(data_x, data_y, test_size=0.2, random_state=42)\n",
    "print(X_train.shape, y_train.shape, X_test.shape, y_test.shape) # check the shapes"
   ]
  },
  {
   "cell_type": "markdown",
   "metadata": {
    "id": "hKQgaTiHddb1"
   },
   "source": [
    "## Hiperparâmtros"
   ]
  },
  {
   "cell_type": "code",
   "execution_count": null,
   "metadata": {
    "id": "LypIADQrZuCz"
   },
   "outputs": [],
   "source": [
    "x = len(X_train)\n",
    "y = len(X_train[0])\n",
    "sigma = 0.3\n",
    "alpha = 0.25\n",
    "\n",
    "print(x, y)"
   ]
  },
  {
   "cell_type": "markdown",
   "metadata": {
    "id": "LR4eSN5Nciqd"
   },
   "source": [
    "# Rede Self Organized Map"
   ]
  },
  {
   "cell_type": "code",
   "execution_count": null,
   "metadata": {
    "id": "wVqzeosjbKLM"
   },
   "outputs": [],
   "source": [
    "def classification_report(som, data):\n",
    "    \"\"\"Classifies each sample in data in one of the classes definited\n",
    "    using the method labels_map.\n",
    "    Returns a list of the same length of data where the i-th element\n",
    "    is the class assigned to data[i].\n",
    "    \"\"\"\n",
    "    winmap = som.labels_map(train_x, train_y)\n",
    "    default_class = np.sum(list(winmap.values())).most_common()[0][0]\n",
    "    result = []\n",
    "    for d in data:\n",
    "        win_position = som.winner(d)\n",
    "        if win_position in winmap:\n",
    "            result.append(winmap[win_position].most_common()[0][0])\n",
    "        else:\n",
    "            result.append(default_class)\n",
    "    return result"
   ]
  },
  {
   "cell_type": "code",
   "execution_count": null,
   "metadata": {
    "id": "c9eN-1OpaECO"
   },
   "outputs": [],
   "source": [
    "from sklearn.model_selection import train_test_split\n",
    "from sklearn.metrics import classification_report\n",
    "\n",
    "som = MiniSom(x,y, 5, sigma=sigma, learning_rate=alpha)\n",
    "som.pca_weights_init(train_x)\n",
    "som.train_random(train_x, 1000, verbose=False)\n",
    "\n",
    "print(classification_report(test_y, classify(som, test_x)))\n"
   ]
  },
  {
   "cell_type": "markdown",
   "metadata": {
    "id": "yQAQWc4LcYk4"
   },
   "source": [
    "# Koniokortex Like Network"
   ]
  },
  {
   "cell_type": "code",
   "execution_count": null,
   "metadata": {
    "id": "6ANal8B18yzb"
   },
   "outputs": [],
   "source": [
    "incw = np.zeros((y,1))\n",
    "alpha = 0.001 # fator de aprendizado\n",
    "shift = 0.05*np.ones((y,1)) # deslocamento da sigmoide\n",
    "v_des = 0.025 # velocidade do deslocamento\n",
    "w = np.random.normal(size=(5, 1))\n",
    "steps = 1000\n",
    "\n",
    "# print(incw, alpha, shift, w)"
   ]
  },
  {
   "cell_type": "code",
   "execution_count": null,
   "metadata": {
    "id": "_1bQwG066O6k"
   },
   "outputs": [],
   "source": [
    "o = np.zeros((x,1))\n",
    "o_antes = o.copy()\n",
    "\n",
    "print(o, o_antes)"
   ]
  },
  {
   "cell_type": "code",
   "execution_count": null,
   "metadata": {
    "id": "-8kCMldtCnRu"
   },
   "outputs": [],
   "source": [
    "# aprendizado do KLN\n",
    "for j in range(x):\n",
    "  w_old = w.copy()\n",
    "  w = w + incw\n",
    "\n",
    "  norm = np.linalg.norm(X_train[j,:])\n",
    "\n",
    "  X_train_copy = X_train[j].copy()/norm\n",
    "\n",
    "  w = w * o[j,:]\n",
    "\n",
    "\n",
    "  # atualizacao do incremento\n",
    "  incw = alpha * (o * o_antes - ((1+0.05)* np.ones((x,1))))# * o_antes) * w))\n",
    "  shift = (v_des * o + shift) / (1 + v_des)# atualizacao do deslocamento\n",
    "\n",
    "  o_antes = o.copy()\n",
    "\n",
    "print(\"Rede KLN treinada\")"
   ]
  },
  {
   "cell_type": "code",
   "execution_count": null,
   "metadata": {
    "id": "TITtOnuW-IPz"
   },
   "outputs": [],
   "source": [
    "print(classification_report(test_y, classify(w, test_x)))"
   ]
  }
 ],
 "metadata": {
  "colab": {
   "provenance": []
  },
  "kernelspec": {
   "display_name": "Python 3 (ipykernel)",
   "language": "python",
   "name": "python3"
  },
  "language_info": {
   "codemirror_mode": {
    "name": "ipython",
    "version": 3
   },
   "file_extension": ".py",
   "mimetype": "text/x-python",
   "name": "python",
   "nbconvert_exporter": "python",
   "pygments_lexer": "ipython3",
   "version": "3.10.6"
  }
 },
 "nbformat": 4,
 "nbformat_minor": 1
}
